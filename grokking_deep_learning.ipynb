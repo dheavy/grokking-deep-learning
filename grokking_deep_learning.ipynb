{
  "nbformat": 4,
  "nbformat_minor": 0,
  "metadata": {
    "colab": {
      "provenance": [],
      "authorship_tag": "ABX9TyNM4S8KxLI6ynwXTCSgruRx",
      "include_colab_link": true
    },
    "kernelspec": {
      "name": "python3",
      "display_name": "Python 3"
    },
    "language_info": {
      "name": "python"
    }
  },
  "cells": [
    {
      "cell_type": "markdown",
      "metadata": {
        "id": "view-in-github",
        "colab_type": "text"
      },
      "source": [
        "<a href=\"https://colab.research.google.com/github/dheavy/grokking-deep-learning/blob/main/grokking_deep_learning.ipynb\" target=\"_parent\"><img src=\"https://colab.research.google.com/assets/colab-badge.svg\" alt=\"Open In Colab\"/></a>"
      ]
    },
    {
      "cell_type": "code",
      "execution_count": 2,
      "metadata": {
        "id": "VXYRZsk6EilT"
      },
      "outputs": [],
      "source": [
        "weight = 0.1\n",
        "def neural_network(input, weight):\n",
        "  prediction = input * weight\n",
        "  return prediction"
      ]
    },
    {
      "cell_type": "code",
      "source": [
        "num_toes = [8.5, 9.5, 10, 9]\n",
        "input = num_toes[0]\n",
        "pred = neural_network(input, weight)\n",
        "print(pred)"
      ],
      "metadata": {
        "colab": {
          "base_uri": "https://localhost:8080/"
        },
        "id": "NsKLebg6FYpc",
        "outputId": "3d1033f6-0aa1-49c9-de83-80be2fe9d3b5"
      },
      "execution_count": 8,
      "outputs": [
        {
          "output_type": "stream",
          "name": "stdout",
          "text": [
            "0.8500000000000001\n"
          ]
        }
      ]
    }
  ]
}